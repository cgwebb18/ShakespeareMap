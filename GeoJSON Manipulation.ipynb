{
 "cells": [
  {
   "cell_type": "code",
   "execution_count": 1,
   "metadata": {},
   "outputs": [],
   "source": [
    "import pandas as pd\n",
    "import numpy as np\n",
    "import geojson"
   ]
  },
  {
   "cell_type": "code",
   "execution_count": 2,
   "metadata": {},
   "outputs": [
    {
     "ename": "FileNotFoundError",
     "evalue": "[Errno 2] No such file or directory: 'data/Places/Richard II_labels.geojson'",
     "output_type": "error",
     "traceback": [
      "\u001b[1;31m---------------------------------------------------------------------------\u001b[0m",
      "\u001b[1;31mFileNotFoundError\u001b[0m                         Traceback (most recent call last)",
      "\u001b[1;32m<ipython-input-2-801c6a89eeaf>\u001b[0m in \u001b[0;36m<module>\u001b[1;34m()\u001b[0m\n\u001b[1;32m----> 1\u001b[1;33m \u001b[1;32mwith\u001b[0m \u001b[0mopen\u001b[0m\u001b[1;33m(\u001b[0m\u001b[1;34m'data/Places/Richard II_labels.geojson'\u001b[0m\u001b[1;33m)\u001b[0m \u001b[1;32mas\u001b[0m \u001b[0mf\u001b[0m\u001b[1;33m:\u001b[0m\u001b[1;33m\u001b[0m\u001b[0m\n\u001b[0m\u001b[0;32m      2\u001b[0m     \u001b[0mdata\u001b[0m \u001b[1;33m=\u001b[0m \u001b[0mgeojson\u001b[0m\u001b[1;33m.\u001b[0m\u001b[0mload\u001b[0m\u001b[1;33m(\u001b[0m\u001b[0mf\u001b[0m\u001b[1;33m)\u001b[0m\u001b[1;33m\u001b[0m\u001b[0m\n\u001b[0;32m      3\u001b[0m     \u001b[0mf\u001b[0m\u001b[1;33m.\u001b[0m\u001b[0mclose\u001b[0m\u001b[1;33m(\u001b[0m\u001b[1;33m)\u001b[0m\u001b[1;33m\u001b[0m\u001b[0m\n",
      "\u001b[1;31mFileNotFoundError\u001b[0m: [Errno 2] No such file or directory: 'data/Places/Richard II_labels.geojson'"
     ]
    }
   ],
   "source": [
    "with open('data/Places/Richard II_labels.geojson') as f:\n",
    "    data = geojson.load(f)\n",
    "    f.close()"
   ]
  },
  {
   "cell_type": "code",
   "execution_count": 21,
   "metadata": {},
   "outputs": [],
   "source": [
    "gacc = []\n",
    "n_gacc = []\n",
    "features = []\n",
    "for feat in data['features']:\n",
    "    g = feat['geometry']['coordinates']\n",
    "    if g not in gacc:\n",
    "        gacc.append(g)\n",
    "        geom = geojson.Point(g)\n",
    "        n = feat['properties']['place name']\n",
    "        f1 = geojson.Feature(geometry=geom, properties={'name': n})\n",
    "        features.append(f1)\n",
    "        \n",
    "f_col = geojson.FeatureCollection(features)\n"
   ]
  },
  {
   "cell_type": "code",
   "execution_count": 3,
   "metadata": {},
   "outputs": [
    {
     "name": "stdout",
     "output_type": "stream",
     "text": [
      "19\n"
     ]
    }
   ],
   "source": [
    "a = 9\n",
    "b = 10\n",
    "print(a + b)"
   ]
  },
  {
   "cell_type": "code",
   "execution_count": null,
   "metadata": {},
   "outputs": [],
   "source": []
  },
  {
   "cell_type": "code",
   "execution_count": 22,
   "metadata": {},
   "outputs": [],
   "source": [
    "h_plays = ['Titus Andronicus', 'Coriolanus', 'Troilus and Cressida', 'Pericles', 'Timon of Athens', 'Antony and Cleopatra', 'Julius Caesar', 'Henry IV, Part I', 'Henry IV, Part II', 'Henry V', 'Henry VI, Part 1','Henry VI, Part 2', 'Henry VI, Part 3', 'Henry VIII', 'King John', 'Richard II', 'Richard III']\n",
    "\n",
    "for p in h_plays:\n",
    "    with open('data/Labels/' + p + '_labels.geojson', 'r') as f:\n",
    "        data = geojson.load(f)\n",
    "        f.close()\n",
    "    gacc = []\n",
    "    features = []\n",
    "    for feat in data['features']:\n",
    "        g = feat['geometry']['coordinates']\n",
    "        if g not in gacc:\n",
    "            gacc.append(g)\n",
    "            geom = geojson.Point(g)\n",
    "            n = feat['properties']['place name']\n",
    "            f1 = geojson.Feature(geometry=geom, properties={'name': n})\n",
    "            features.append(f1)\n",
    "    f_col = geojson.FeatureCollection(features)\n",
    "    with open('data/Places/' + p + '_places.geojson', 'w') as f:\n",
    "        geojson.dump(f_col, f)"
   ]
  },
  {
   "cell_type": "code",
   "execution_count": null,
   "metadata": {},
   "outputs": [],
   "source": []
  },
  {
   "cell_type": "code",
   "execution_count": null,
   "metadata": {},
   "outputs": [],
   "source": [
    "#function to combine these two formats of df and spit out GeoJSON\n",
    "def to_GeoJSON(text_df, geo_df, gtype):\n",
    "    if gtype == 'Polygon':\n",
    "        z = geojson.Polygon\n",
    "    elif gtype == 'Point':\n",
    "        z = geojson.Point\n",
    "    features = []\n",
    "    for i, row in geo_df.iterrows():\n",
    "        place = row['Place_Name']\n",
    "        m_name = row['Modern_Name']\n",
    "        #df of rows that contain place name\n",
    "        sub_txt_df = find_rows(text_df, place)\n",
    "        #add column of just line numbers\n",
    "        sub_txt_df['Line'] = [get_ln_nums(x, place) for x in sub_txt_df.Dialogue]\n",
    "        geometry = row.Geometry\n",
    "        for ix, rowx in sub_txt_df.iterrows():\n",
    "            props = dict()\n",
    "            geom = z(geometry)\n",
    "            props['play'] = rowx.Play\n",
    "            props['place name'] = place\n",
    "            props['character'] = rowx['Speaker']\n",
    "            props['a.s.l.'] = rowx['Line']\n",
    "            props['sequence'] = rowx['Sequence']\n",
    "            f1 = geojson.Feature(geometry=geom, properties=props)\n",
    "            if f1.is_valid == False:\n",
    "                print(f1.properties['place name'])\n",
    "                raise Exception('The coordinates for this place are in an invalid format.')\n",
    "            features.append(f1)\n",
    "    f_col = geojson.FeatureCollection(features)  \n",
    "    return f_col\n",
    "     \n",
    "geo_data = to_GeoJSON(strict_df, coordinate_df, 'Polygon')"
   ]
  },
  {
   "cell_type": "code",
   "execution_count": null,
   "metadata": {},
   "outputs": [],
   "source": []
  },
  {
   "cell_type": "code",
   "execution_count": null,
   "metadata": {},
   "outputs": [],
   "source": []
  }
 ],
 "metadata": {
  "kernelspec": {
   "display_name": "Python 3",
   "language": "python",
   "name": "python3"
  },
  "language_info": {
   "codemirror_mode": {
    "name": "ipython",
    "version": 3
   },
   "file_extension": ".py",
   "mimetype": "text/x-python",
   "name": "python",
   "nbconvert_exporter": "python",
   "pygments_lexer": "ipython3",
   "version": "3.6.5"
  }
 },
 "nbformat": 4,
 "nbformat_minor": 2
}
